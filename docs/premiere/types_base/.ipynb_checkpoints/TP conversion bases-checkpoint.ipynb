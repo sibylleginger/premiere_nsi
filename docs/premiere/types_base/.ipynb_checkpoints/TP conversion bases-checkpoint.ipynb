{
 "cells": [
  {
   "cell_type": "markdown",
   "metadata": {},
   "source": [
    "# TP Python implémentation fonctions de conversion\n",
    "\n",
    "On cherche à écrire 2 fonctions qui assurent\n",
    "* la conversion d’un nombre entier décimal en binaire : ``dec2bin()``\n",
    "* la conversion d’un nombre entier binaire en décimal : ``bin2dec()``\n",
    "\n",
    "En Python, le type int est affiché en base 10 (exemple 42). Pour permettre son affichage en binaire, on peut construire la chaine de caractère correspondante (exemple ‘101010’). Même chose en hexadécimal (exemple ‘2A’).\n",
    "\n",
    "<div class=\"alert alert-info\">\n",
    "Pour parcourir une chaine de caractère, on peut utiliser une boucle for car in chaine :\n",
    "dans laquelle car prendra successivement la valeur de chacun des caractères de chaine, et qui se répètera autant de fois qu’il y a de caractères dans la chaine.\n",
    "    </div>\n",
    "\n",
    "Voici les algorithmes et spécifications de nos 2 fonctions :"
   ]
  },
  {
   "cell_type": "markdown",
   "metadata": {},
   "source": [
    "````python\n",
    "def dec2bin(dec):\n",
    "    \"\"\"\n",
    "    convertit un nombre entier décimal en nombre binaire\n",
    "    # entrée : dec, un nombre entier décimal\n",
    "    # sortie : bin, une chaine de caractères ‘0’ et ‘1’, la suite de chiffres du nombre binaire correspondant à dec\n",
    "    \"\"\"\n",
    "    bin = \"\"\n",
    "    tant que (dec non nul) répéter :\n",
    "        reste = reste de la division entière de dec par 2\n",
    "        concaténer str(reste) + bin\n",
    "        dec = quotient de la division entière de dec par 2\n",
    "    retourner bin\n",
    "    \n",
    "\n",
    "def bin2dec(bin):\n",
    "    \"\"\"\n",
    "    convertit un nombre entier binaire en nombre décimal\n",
    "    # entrée : bin, une chaine de caractères ‘0’ et ‘1’, la suite de chiffres d’un nombre binaire\n",
    "    # sortie : dec, un nombre entier décimal, correspondant à bin\n",
    "    \"\"\"\n",
    "    dec = 0\n",
    "    pour chaque bit de bin répéter :\n",
    "        dec = dec * 2 + int(bit)\n",
    "    retourner dec\n",
    "    \n",
    "````"
   ]
  },
  {
   "cell_type": "markdown",
   "metadata": {},
   "source": [
    "<div class=\"alert alert-success\">\n",
    "A partir de leur spécification et des algorithmes, implémenter les 2 fonctions, les tester sur quelques exemples et tracer, sur un exemple simple, l’exécution des boucles (un print à chaque tour pour afficher le déroulement).\n",
    "    </div>"
   ]
  },
  {
   "cell_type": "code",
   "execution_count": null,
   "metadata": {},
   "outputs": [],
   "source": [
    "# fonctions ici"
   ]
  },
  {
   "cell_type": "code",
   "execution_count": null,
   "metadata": {},
   "outputs": [],
   "source": []
  }
 ],
 "metadata": {
  "kernelspec": {
   "display_name": "Python 3",
   "language": "python",
   "name": "python3"
  },
  "language_info": {
   "codemirror_mode": {
    "name": "ipython",
    "version": 3
   },
   "file_extension": ".py",
   "mimetype": "text/x-python",
   "name": "python",
   "nbconvert_exporter": "python",
   "pygments_lexer": "ipython3",
   "version": "3.8.8"
  }
 },
 "nbformat": 4,
 "nbformat_minor": 2
}
