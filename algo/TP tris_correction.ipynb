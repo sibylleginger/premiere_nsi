{
 "cells": [
  {
   "cell_type": "markdown",
   "metadata": {},
   "source": [
    "##### NSI Spécialité NSI Première - J.J.Dides nov.2021 - S.Roux janv.2022"
   ]
  },
  {
   "cell_type": "markdown",
   "metadata": {},
   "source": [
    "# Algorithmes de tris"
   ]
  },
  {
   "cell_type": "markdown",
   "metadata": {},
   "source": [
    "Dans ce notebook nous allons implémenter en Python, les deux algorithmes de tris vus en cours : **le tri par sélection et le tri par insertion**"
   ]
  },
  {
   "cell_type": "markdown",
   "metadata": {},
   "source": [
    "## Tri par Sélection"
   ]
  },
  {
   "cell_type": "markdown",
   "metadata": {},
   "source": [
    "Le tri par sélection parcours la liste de la gauche vers la droite, en maintenant sur la gauche une partie de la liste déjà triée et où les éléments sont rangés à leur place définitive.     \n",
    "A chaque étape, on cherche le plus petit élément dans la partie de droite non triée de la liste, puis on l'échange avec l'élément le plus à gauche de cette partie non triée :"
   ]
  },
  {
   "cell_type": "markdown",
   "metadata": {},
   "source": [
    "![](TriSelection.png)"
   ]
  },
  {
   "cell_type": "markdown",
   "metadata": {},
   "source": [
    "Pour implémenter en Python cet algorithme, nous allons nous aider de l'algorithme construit en cours et **diviser les différentes étapes en plusieurs fonctions**."
   ]
  },
  {
   "cell_type": "markdown",
   "metadata": {},
   "source": [
    "### <font color=green> &#9998; Application</font>\n",
    "\n",
    "<font color=green>Ecrire une fonction ``minimum(T, a)`` qui retourne **le rang** du plus petit élément de la liste ``T`` entre l'élément d'indice ``a`` et le dernier élément de la liste (inclus).</font>\n",
    "\n",
    "<font color=green>Puis testez-la avec les listes crées ci-dessous</font>"
   ]
  },
  {
   "cell_type": "code",
   "execution_count": 35,
   "metadata": {},
   "outputs": [
    {
     "name": "stdout",
     "output_type": "stream",
     "text": [
      "5\n",
      "0\n",
      "None\n"
     ]
    }
   ],
   "source": [
    "def minimum(T, a) :\n",
    "    # à remplir\n",
    "    if len(T) == 0 :\n",
    "        return None\n",
    "    imini = a\n",
    "    for i in range(a+1,len(T)) :\n",
    "        if T[i] < T[imini] :\n",
    "            imini = i\n",
    "    return imini\n",
    "\n",
    "# tests\n",
    "l1 = [3,2,9,6,8,1]\n",
    "l2 = [-2,0,5,7]\n",
    "l3 = []\n",
    "\n",
    "print(minimum(l1,0))\n",
    "print(minimum(l2,0))\n",
    "print(minimum(l3,0))"
   ]
  },
  {
   "cell_type": "markdown",
   "metadata": {},
   "source": [
    "### <font color=green> &#9998; Application</font>\n",
    "\n",
    "<font color=green>Ecrire une fonction ``echange(T, a, b)`` qui permute dans la liste ``T`` les éléments d'indice ``a`` et ``b``.</font>\n",
    "\n",
    "<font color=green>Puis testez-la avec des nouvelles listes ou celles crées au-dessus.</font>"
   ]
  },
  {
   "cell_type": "code",
   "execution_count": 36,
   "metadata": {},
   "outputs": [
    {
     "name": "stdout",
     "output_type": "stream",
     "text": [
      "[1, 2, 9, 6, 8, 3]\n"
     ]
    }
   ],
   "source": [
    "def echange(T, a, b) :\n",
    "    # à remplir\n",
    "    T[a], T[b] = T[b], T[a]\n",
    "    return T\n",
    "\n",
    "# tests\n",
    "print(echange(l1,0,5))\n"
   ]
  },
  {
   "cell_type": "markdown",
   "metadata": {},
   "source": [
    "### <font color=green> &#9998; Application</font>\n",
    "\n",
    "<font color=green>Ecrire maintenant la fonction ``tri_selection(T)`` qui effectue le tri de la liste ``T`` par sélection, en suivant l'algorithme écrit dans le cours et en utilisant les 2 fonctions ``minimum()`` et ``echange()``.</font>"
   ]
  },
  {
   "cell_type": "code",
   "execution_count": 37,
   "metadata": {},
   "outputs": [],
   "source": [
    "def tri_selection(T) :\n",
    "    # à remplir\n",
    "    for i in range(len(T)) :\n",
    "        imini = minimum(T,i)\n",
    "        echange(T,imini,i)   \n",
    "    return T"
   ]
  },
  {
   "cell_type": "markdown",
   "metadata": {},
   "source": [
    "<font color=green>Tester cette fonction sur la liste ``T`` suivante :"
   ]
  },
  {
   "cell_type": "code",
   "execution_count": 38,
   "metadata": {},
   "outputs": [],
   "source": [
    "# Soit la liste suivante (10 éléments entiers) à trier\n",
    "T = [18, 3, 10, 25, 9, 5, 11, 13, 23, 8]"
   ]
  },
  {
   "cell_type": "code",
   "execution_count": 39,
   "metadata": {},
   "outputs": [
    {
     "data": {
      "text/plain": [
       "[3, 5, 8, 9, 10, 11, 13, 18, 23, 25]"
      ]
     },
     "execution_count": 39,
     "metadata": {},
     "output_type": "execute_result"
    }
   ],
   "source": [
    "tri_selection(T)"
   ]
  },
  {
   "cell_type": "markdown",
   "metadata": {},
   "source": [
    "### Quelle est la complexité de l'algorithme de tri par sélection          \n",
    "\n",
    "Essayons de mesurer la durée d'un tri par sélection.\n",
    "\n",
    "*On fait varier la taille n de la liste ``T`` de 0 à 5000 et on stocke dans une liste les durées d'exécution de la fonction ``tri_selection(T)`` en milliseconde, mesurées à l'aide la la fonction ``perfcounter()`` du module time, qui retourne un temps en secondes :*"
   ]
  },
  {
   "cell_type": "code",
   "execution_count": 40,
   "metadata": {},
   "outputs": [
    {
     "data": {
      "image/png": "[encoded data removed]",
      "text/plain": [
       "<Figure size 432x288 with 1 Axes>"
      ]
     },
     "metadata": {
      "needs_background": "light"
     },
     "output_type": "display_data"
    }
   ],
   "source": [
    "import matplotlib.pyplot as plt\n",
    "from time import perf_counter\n",
    "X, Y = [], []\n",
    "plt.close()\n",
    "for n in range(0, 5000, 500) :\n",
    "    T = [i for i in range(2,n)]         # création d'un tableau désordonné de n entiers\n",
    "    T.append(1)\n",
    "    debut = perf_counter()              # mesure du temps avant et après tri de T\n",
    "    tri_selection(T)\n",
    "    fin = perf_counter()\n",
    "    X.append(n)                         # construction des listes des valeurs de n et T(n)\n",
    "    Y.append(1000*(fin-debut))\n",
    "plt.plot(X, Y)                          # tracé de la courbe de variation de T(n) en fonction de n\n",
    "plt.show()"
   ]
  },
  {
   "cell_type": "markdown",
   "metadata": {},
   "source": [
    "On constate, au premier abord que l'exécution du script prend un temps significatif.          \n",
    "On observe ensuite, sur la courbe obtenue, qu'un doublement de la longueur du tableau, multiplie sa durée de tri par 4 !"
   ]
  },
  {
   "cell_type": "markdown",
   "metadata": {},
   "source": [
    "Plus rigoureusement, pour évaluer la performance d'un algorithme de tri, on peut compter, par exemple, le nombre de comparaisons de 2 éléments de la liste.      \n",
    "Si la liste comprend ``n`` éléments et que, dans le pire des cas, le désordre initial est total, il faudra, pour ordonner l'ensemble du tableau :    \n",
    "\n",
    "<center>$(n-1) + (n-2) + (n-3) + ... + 2 + 1 = n * (n-1) / 2 = n^2 / 2 - n / 2$ comparaisons</center>\n",
    "\n",
    "En effet, ce tri implique **2 boucles imbriquées** :\n",
    "* la boucle ``for`` de la fonction ``tri_selection()`` qui parcours la liste du début à la fin (n itérations)\n",
    "* la boucle ``for`` de la fonction ``minimum()`` qui recherche le minimum d'une liste de (n-i itérations)\n",
    "\n",
    "Vous pouvez copier le code de votre fonction ``minimum()`` à la place de son appel dans la fonction ``tri_selection()`` pour mieux voir les boucles imbriquées.\n",
    "\n",
    "<div class=\"alert alert-danger\">\n",
    "    \n",
    "Ce qui confirme que le tri par sélection est de **complexité quadratique** $O(n^2)$ !\n",
    "</div>"
   ]
  },
  {
   "cell_type": "markdown",
   "metadata": {},
   "source": [
    "Pour rappel, voici les courbes des fonctions $f(n) = n$ (complexité linéaire) et $f(n) = n^2$ (complexité quadratique) :"
   ]
  },
  {
   "cell_type": "code",
   "execution_count": 41,
   "metadata": {},
   "outputs": [
    {
     "data": {
      "image/png": "[encoded data removed]",
      "text/plain": [
       "<Figure size 432x288 with 1 Axes>"
      ]
     },
     "metadata": {
      "needs_background": "light"
     },
     "output_type": "display_data"
    }
   ],
   "source": [
    "X = [i for i in range(0,10)]\n",
    "YL = [i for i in range(0,10)]\n",
    "YQ = [i**2 for i in range(0,10)]\n",
    "plt.close()\n",
    "plt.plot(X, YL, YQ)\n",
    "plt.show()"
   ]
  },
  {
   "cell_type": "markdown",
   "metadata": {},
   "source": [
    "           \n",
    "          "
   ]
  },
  {
   "cell_type": "markdown",
   "metadata": {},
   "source": [
    "## Tri par Insertion"
   ]
  },
  {
   "cell_type": "markdown",
   "metadata": {},
   "source": [
    "Le tri par insertion parcours lui aussi la liste de la gauche vers la droite, en construisant sur la gauche une partie de la liste déjà triée.     \n",
    "On va, à chaque étape, insérer le premier élément non encore trié parmi les éléments situés à sa gauche et déjà triés.    "
   ]
  },
  {
   "cell_type": "markdown",
   "metadata": {},
   "source": [
    "![](TriInsertion.png)"
   ]
  },
  {
   "cell_type": "markdown",
   "metadata": {},
   "source": [
    "<div class=\"alert alert-info\">\n",
    "    \n",
    "Les **slices** sont des expressions du langage Python qui vous permettent en une ligne de code d’extraire des éléments d’une liste ou d’une chaîne de caractères. Exemples avec ``liste = [3,54,34,27,2,90]``\n",
    "\n",
    "* ``liste[a:b]`` ==> correspond à la sous-liste des éléments d'indice a à b-1\n",
    "* ``liste[0:3]`` ==> vaut ``[3, 54, 34]``\n",
    "    </div>\n",
    "\n",
    "Pour **implémenter en Python** cet algorithme :"
   ]
  },
  {
   "cell_type": "markdown",
   "metadata": {},
   "source": [
    "Il faut disposer d'une fonction ``insere(liste, i)`` qui insère l'élément d'indice i (``liste[i]``) à la bonne blace dans la liste triée ``liste[0:i]``.\n",
    "\n",
    "Pour cela on compare ``liste[i]`` aux éléments triés de ``liste[0:i]`` qui le précèdent. On repère le premier élément ``liste[j]`` plus grand que ``liste[i]``, décaler les éléments de ``liste[j:i]`` plus grands que ``liste[i]`` d'une position vers la droite et placer ``liste[i]`` à la position j ainsi libérée. ``liste[i]`` sera déplacé à une position qui conserve l'ordre croissant des éléments de ``liste[0:i+1]``\n",
    "\n",
    "### <font color=green> &#9998; Application</font>\n",
    "\n",
    "<font color=green>Compléter la fonction ``insere(liste, i)`` qui insère l'élément d'indice i à la bonne blace dans la partie de liste triée. Cette fonction retourne la liste après les modifications.</font>\n",
    "\n",
    "<font color=green>Puis testez-la avec les jeux de tests en dessous.</font>"
   ]
  },
  {
   "cell_type": "code",
   "execution_count": 42,
   "metadata": {},
   "outputs": [],
   "source": [
    "def insere(liste, i) :\n",
    "    # tant que T[i] n'est pas à la bonne place dans T[0:i], on echange sa valeur avec celle de l'élément précédent.\n",
    "    while i > 0 and liste[i] < liste[i-1] :\n",
    "        liste[i], liste[i-1] = liste[i-1], liste[i]\n",
    "        i -= 1\n",
    "    return liste"
   ]
  },
  {
   "cell_type": "code",
   "execution_count": 43,
   "metadata": {},
   "outputs": [],
   "source": [
    "l2 = [0,3,4,5,2,9]\n",
    "assert insere(l2,4) == [0, 2, 3, 4, 5, 9]\n",
    "\n",
    "l3 = [4,5,6,8,9,0,1]\n",
    "assert insere(l3, 5) == [0, 4, 5, 6, 8, 9, 1]\n",
    "assert insere(l3, 6) == [0, 1, 4, 5, 6, 8, 9]"
   ]
  },
  {
   "cell_type": "markdown",
   "metadata": {},
   "source": [
    "### <font color=green> &#9998; Application</font>\n",
    "\n",
    "<font color=green>Ecrire la fonction ``tri_insertion(T)`` qui effectue le tri de la liste T par insertion, en suivant l'algorithme vu en cours et en utilisant la fonction ``insere()``.</font>\n",
    "\n",
    "<font color=green>Puis testez-la avec les jeux de tests en dessous.</font>"
   ]
  },
  {
   "cell_type": "code",
   "execution_count": 44,
   "metadata": {},
   "outputs": [],
   "source": [
    "def tri_insertion(T) :\n",
    "    # à remplir\n",
    "    for i in range(1,len(T)) :\n",
    "        insere(T,i)\n",
    "    return T"
   ]
  },
  {
   "cell_type": "markdown",
   "metadata": {},
   "source": [
    "<font color=green>Tester cette fonction ``tri_insertion(T)`` sur la liste L suivante.</font>"
   ]
  },
  {
   "cell_type": "code",
   "execution_count": 45,
   "metadata": {},
   "outputs": [
    {
     "name": "stdout",
     "output_type": "stream",
     "text": [
      "[3, 5, 8, 9, 10, 11, 13, 18, 23, 25]\n"
     ]
    }
   ],
   "source": [
    "L = [18, 3, 10, 25, 9, 5, 11, 13, 23, 8]\n",
    "\n",
    "# test de la fonction tri_insertion\n",
    "print(tri_insertion(L))"
   ]
  },
  {
   "cell_type": "markdown",
   "metadata": {},
   "source": [
    "### Quelle est la complexité de l'algorithme de tri par insertion          \n",
    "\n",
    "Essayons de mesurer la durée d'un tri par insertion.\n",
    "\n",
    "*On fait varier la taille n de la liste T de 0 à 5000 et on stocke dans une liste les durées d'exécution de la fonction ``tri_insertion(T)`` en milliseconde, mesurée à l'aide la la fonction ``perfcounter()`` du module time, qui retourne un temps en secondes :*"
   ]
  },
  {
   "cell_type": "code",
   "execution_count": 55,
   "metadata": {},
   "outputs": [
    {
     "data": {
      "image/png": "[encoded data removed]",
      "text/plain": [
       "<Figure size 432x288 with 1 Axes>"
      ]
     },
     "metadata": {
      "needs_background": "light"
     },
     "output_type": "display_data"
    }
   ],
   "source": [
    "X, Y = [], []\n",
    "plt.close()\n",
    "for n in range(0, 5000, 500) :\n",
    "    T = [n-i for i in range(n)]\n",
    "    debut = perf_counter()\n",
    "    tri_insertion(T)\n",
    "    fin = perf_counter()\n",
    "    X.append(n)\n",
    "    Y.append(1000*(fin-debut))\n",
    "plt.plot(X, Y)\n",
    "plt.show()"
   ]
  },
  {
   "cell_type": "markdown",
   "metadata": {},
   "source": [
    "On constate que l'exécution du script prend un temps significatif et, sur la courbe obtenue, qu'un doublement de la longueur de la liste, multiplie sa durée de tri par 4 !"
   ]
  },
  {
   "cell_type": "markdown",
   "metadata": {},
   "source": [
    "En effet, comme pour le tri par sélection, ce tri implique 2 boucles imbriquées :\n",
    "* la boucle ``for`` de la fonction ``tri_insertion()`` qui parcours la liste du début à la fin\n",
    "* la boucle ``while`` de la fonction ``insere()`` qui parcourt les i premiers éléments de la liste (dans le pire des cas)\n",
    "\n",
    "<center>$1 + 2 + 3 + ... + (n-2) + (n-1) =  n * (n-1) / 2 =  (n^2 - n) / 2$ comparaisons</center>\n",
    "\n",
    "Vous pouvez copier le code de votre fonction ``insere()`` à la place de son appel dans la fonction ``tri_insertion()`` pour mieux voir les boucles imbriquées.\n",
    "\n",
    "<div class=\"alert alert-danger\">\n",
    "    \n",
    "Ce qui confirme que ce tri par insertion est de **complexité quadtarique** $O(n^2)$.\n",
    "    </div>"
   ]
  },
  {
   "cell_type": "markdown",
   "metadata": {},
   "source": [
    "                   "
   ]
  },
  {
   "cell_type": "markdown",
   "metadata": {},
   "source": [
    "On a vu qu'une complexité quadratique n'est pas une solution efficace. Il existe d'autres algorithmes de tri plus performants, qui seront étudiés en classe de terminale."
   ]
  },
  {
   "cell_type": "markdown",
   "metadata": {},
   "source": [
    "C'est le cas du tri fourni par Python dans la fonction ``sorted()`` : "
   ]
  },
  {
   "cell_type": "code",
   "execution_count": 47,
   "metadata": {},
   "outputs": [],
   "source": [
    "T = [18, 3, 10, 25, 9, 5, 11, 13, 23, 8]"
   ]
  },
  {
   "cell_type": "code",
   "execution_count": 48,
   "metadata": {},
   "outputs": [
    {
     "name": "stdout",
     "output_type": "stream",
     "text": [
      "[3, 5, 8, 9, 10, 11, 13, 18, 23, 25]\n"
     ]
    }
   ],
   "source": [
    "print(sorted(T))"
   ]
  },
  {
   "cell_type": "markdown",
   "metadata": {},
   "source": [
    "Evaluons son efficacité : "
   ]
  },
  {
   "cell_type": "code",
   "execution_count": 59,
   "metadata": {},
   "outputs": [
    {
     "data": {
      "image/png": "[encoded data removed]",
      "text/plain": [
       "<Figure size 432x288 with 1 Axes>"
      ]
     },
     "metadata": {
      "needs_background": "light"
     },
     "output_type": "display_data"
    }
   ],
   "source": [
    "X, Y = [], []\n",
    "plt.close()\n",
    "for n in range(0, 5000, 500) :\n",
    "    T = [n-i for i in range(n)]\n",
    "    debut = perf_counter()\n",
    "    sorted(T)\n",
    "    fin = perf_counter()\n",
    "    X.append(n)\n",
    "    Y.append(1000*(fin-debut))\n",
    "plt.plot(X, Y)\n",
    "plt.show()"
   ]
  },
  {
   "cell_type": "markdown",
   "metadata": {},
   "source": [
    "Le tri est quasiment instantané, cette fonction à une complexité de $O(n.log(n))$ dans le pire des cas. C'est actuellement la complexité la plus basse pour les algorithmes de tri, le tri de Python est donc optimal !"
   ]
  }
 ],
 "metadata": {
  "kernelspec": {
   "display_name": "Python 3",
   "language": "python",
   "name": "python3"
  },
  "language_info": {
   "codemirror_mode": {
    "name": "ipython",
    "version": 3
   },
   "file_extension": ".py",
   "mimetype": "text/x-python",
   "name": "python",
   "nbconvert_exporter": "python",
   "pygments_lexer": "ipython3",
   "version": "3.8.8"
  }
 },
 "nbformat": 4,
 "nbformat_minor": 2
}
